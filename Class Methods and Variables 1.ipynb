{
 "cells": [
  {
   "cell_type": "markdown",
   "id": "ea85aef3",
   "metadata": {},
   "source": [
    "## Step 1 - Create a Connection class based on the skeleton below with class variables for the port (set to 55000) and the connection_count (= 0)."
   ]
  },
  {
   "cell_type": "code",
   "execution_count": 135,
   "id": "dbff5f59",
   "metadata": {},
   "outputs": [],
   "source": [
    "class Connection_a:\n",
    "    port = 55000\n",
    "    conn_limit = 10\n",
    "    conn_count = 0\n",
    "    \n",
    "    def __init__(self, host):\n",
    "        # set the host for the instance\n",
    "        self.host = host\n",
    "        # set the port based on the class variable port\n",
    "        self.port = Connection_a.port + Connection_a.conn_count\n",
    "        # add 1 to the class's connection_count\n",
    "        Connection_a.conn_count += 1\n",
    "        \n",
    "    def __repr__(self):\n",
    "        return f'{self.host}, {self.port}'\n",
    "          \n",
    "    def close(self):\n",
    "        # reduce the class's connection_count by 1\n",
    "        Connection_a.conn_count -= 1"
   ]
  },
  {
   "cell_type": "markdown",
   "id": "49a62848",
   "metadata": {},
   "source": [
    "### Create an instance, print the attributes, and then show that port, conn_limit and conn_count are class variables and not instance variables."
   ]
  },
  {
   "cell_type": "code",
   "execution_count": 136,
   "id": "4a113e2d",
   "metadata": {},
   "outputs": [
    {
     "name": "stdout",
     "output_type": "stream",
     "text": [
      "conn_a1 attributes: host_a1, 55000\n",
      "conn_a2 attributes: host_a2, 55001\n"
     ]
    }
   ],
   "source": [
    "conn_a1 = Connection_a('host_a1')\n",
    "conn_a2 = Connection_a('host_a2')\n",
    "print(f'conn_a1 attributes: {conn_a1}')\n",
    "print(f'conn_a2 attributes: {conn_a2}')"
   ]
  },
  {
   "cell_type": "code",
   "execution_count": 137,
   "id": "984a9396",
   "metadata": {},
   "outputs": [
    {
     "data": {
      "text/plain": [
       "{'host': 'host_a1', 'port': 55000}"
      ]
     },
     "execution_count": 137,
     "metadata": {},
     "output_type": "execute_result"
    }
   ],
   "source": [
    "conn_a1.__dict__"
   ]
  },
  {
   "cell_type": "code",
   "execution_count": 138,
   "id": "3a39381a",
   "metadata": {},
   "outputs": [
    {
     "data": {
      "text/plain": [
       "{'host': 'host_a2', 'port': 55001}"
      ]
     },
     "execution_count": 138,
     "metadata": {},
     "output_type": "execute_result"
    }
   ],
   "source": [
    "conn_a2.__dict__"
   ]
  },
  {
   "cell_type": "code",
   "execution_count": 139,
   "id": "4f6855eb",
   "metadata": {},
   "outputs": [
    {
     "data": {
      "text/plain": [
       "mappingproxy({'__module__': '__main__',\n",
       "              'port': 55000,\n",
       "              'conn_limit': 10,\n",
       "              'conn_count': 2,\n",
       "              '__init__': <function __main__.Connection_a.__init__(self, host)>,\n",
       "              '__repr__': <function __main__.Connection_a.__repr__(self)>,\n",
       "              'close': <function __main__.Connection_a.close(self)>,\n",
       "              '__dict__': <attribute '__dict__' of 'Connection_a' objects>,\n",
       "              '__weakref__': <attribute '__weakref__' of 'Connection_a' objects>,\n",
       "              '__doc__': None})"
      ]
     },
     "execution_count": 139,
     "metadata": {},
     "output_type": "execute_result"
    }
   ],
   "source": [
    "Connection_a.__dict__"
   ]
  },
  {
   "cell_type": "markdown",
   "id": "1a31483b",
   "metadata": {},
   "source": [
    "## Step 2 - As a second experiment, change the class, replace the connection_count attribute with a connections list, and have each instance add itself to the list in the __init__ method and remove itself in the close method."
   ]
  },
  {
   "cell_type": "code",
   "execution_count": 140,
   "id": "d60b873c",
   "metadata": {},
   "outputs": [],
   "source": [
    "class Connection_b:\n",
    "    port = 55000\n",
    "    conn_limit = 10\n",
    "    connections = []\n",
    "    \n",
    "    def __init__(self, host):\n",
    "        # implement using the connections list \n",
    "        self.host = host\n",
    "        self.port = Connection_b.port + len(Connection_b.connections)\n",
    "        Connection_b.connections.append(self)\n",
    "        \n",
    "    def close(self):\n",
    "        Connection_b.connections.remove(self)\n",
    "        \n",
    "    def __repr__(self):\n",
    "        return f'{self.host}, {self.port}'"
   ]
  },
  {
   "cell_type": "markdown",
   "id": "1ddba6f2",
   "metadata": {},
   "source": [
    "## Step 3 - Create some instances and see if you are changing the class attribute connections."
   ]
  },
  {
   "cell_type": "markdown",
   "id": "bb7d730d",
   "metadata": {},
   "source": [
    "### Show the class connections id and attributes list before adding any instances."
   ]
  },
  {
   "cell_type": "code",
   "execution_count": 141,
   "id": "729b2b8c",
   "metadata": {},
   "outputs": [
    {
     "name": "stdout",
     "output_type": "stream",
     "text": [
      "The memory location of the connections list is 4356887680.\n"
     ]
    },
    {
     "data": {
      "text/plain": [
       "mappingproxy({'__module__': '__main__',\n",
       "              'port': 55000,\n",
       "              'conn_limit': 10,\n",
       "              'connections': [],\n",
       "              '__init__': <function __main__.Connection_b.__init__(self, host)>,\n",
       "              'close': <function __main__.Connection_b.close(self)>,\n",
       "              '__repr__': <function __main__.Connection_b.__repr__(self)>,\n",
       "              '__dict__': <attribute '__dict__' of 'Connection_b' objects>,\n",
       "              '__weakref__': <attribute '__weakref__' of 'Connection_b' objects>,\n",
       "              '__doc__': None})"
      ]
     },
     "execution_count": 141,
     "metadata": {},
     "output_type": "execute_result"
    }
   ],
   "source": [
    "print(f'The memory location of the connections list is {id(Connection_b.connections)}.')\n",
    "Connection_b.__dict__"
   ]
  },
  {
   "cell_type": "markdown",
   "id": "7f539b76",
   "metadata": {},
   "source": [
    "### Now add some instances and see if the connections list id and contents have changes."
   ]
  },
  {
   "cell_type": "code",
   "execution_count": 142,
   "id": "1f143697",
   "metadata": {},
   "outputs": [
    {
     "name": "stdout",
     "output_type": "stream",
     "text": [
      "The memory location of the connections list is 4356887680.\n"
     ]
    },
    {
     "data": {
      "text/plain": [
       "mappingproxy({'__module__': '__main__',\n",
       "              'port': 55000,\n",
       "              'conn_limit': 10,\n",
       "              'connections': [host_b1, 55000, host_b2, 55001, host_b3, 55002],\n",
       "              '__init__': <function __main__.Connection_b.__init__(self, host)>,\n",
       "              'close': <function __main__.Connection_b.close(self)>,\n",
       "              '__repr__': <function __main__.Connection_b.__repr__(self)>,\n",
       "              '__dict__': <attribute '__dict__' of 'Connection_b' objects>,\n",
       "              '__weakref__': <attribute '__weakref__' of 'Connection_b' objects>,\n",
       "              '__doc__': None})"
      ]
     },
     "execution_count": 142,
     "metadata": {},
     "output_type": "execute_result"
    }
   ],
   "source": [
    "conn_b1 = Connection_b('host_b1')\n",
    "conn_b2 = Connection_b('host_b2')\n",
    "conn_b3 = Connection_b('host_b3')\n",
    "print(f'The memory location of the connections list is {id(Connection_b.connections)}.')\n",
    "Connection_b.__dict__"
   ]
  },
  {
   "cell_type": "markdown",
   "id": "9a60610e",
   "metadata": {},
   "source": [
    "### Remove an instance and check the connections list id and contents. We can see that the list is changing the contents of the list but the list has not changed memory location because it is mutable."
   ]
  },
  {
   "cell_type": "code",
   "execution_count": 143,
   "id": "71b2a6cc",
   "metadata": {},
   "outputs": [
    {
     "name": "stdout",
     "output_type": "stream",
     "text": [
      "The memory location of the connections list is 4356887680.\n"
     ]
    },
    {
     "data": {
      "text/plain": [
       "mappingproxy({'__module__': '__main__',\n",
       "              'port': 55000,\n",
       "              'conn_limit': 10,\n",
       "              'connections': [host_b1, 55000, host_b3, 55002],\n",
       "              '__init__': <function __main__.Connection_b.__init__(self, host)>,\n",
       "              'close': <function __main__.Connection_b.close(self)>,\n",
       "              '__repr__': <function __main__.Connection_b.__repr__(self)>,\n",
       "              '__dict__': <attribute '__dict__' of 'Connection_b' objects>,\n",
       "              '__weakref__': <attribute '__weakref__' of 'Connection_b' objects>,\n",
       "              '__doc__': None})"
      ]
     },
     "execution_count": 143,
     "metadata": {},
     "output_type": "execute_result"
    }
   ],
   "source": [
    "conn_b2.close()\n",
    "print(f'The memory location of the connections list is {id(Connection_b.connections)}.')\n",
    "Connection_b.__dict__"
   ]
  }
 ],
 "metadata": {
  "kernelspec": {
   "display_name": "Python 3 (ipykernel)",
   "language": "python",
   "name": "python3"
  },
  "language_info": {
   "codemirror_mode": {
    "name": "ipython",
    "version": 3
   },
   "file_extension": ".py",
   "mimetype": "text/x-python",
   "name": "python",
   "nbconvert_exporter": "python",
   "pygments_lexer": "ipython3",
   "version": "3.10.0"
  }
 },
 "nbformat": 4,
 "nbformat_minor": 5
}
