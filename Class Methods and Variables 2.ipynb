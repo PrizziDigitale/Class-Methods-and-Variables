{
 "cells": [
  {
   "cell_type": "markdown",
   "id": "458edc2c",
   "metadata": {},
   "source": [
    "## Step 1 - Rework your final class from the previous activity to use the class itself to access class data."
   ]
  },
  {
   "cell_type": "code",
   "execution_count": 43,
   "id": "87fbfb2d",
   "metadata": {},
   "outputs": [],
   "source": [
    "class Connection:\n",
    "    port = 55000\n",
    "    conn_limit = 10\n",
    "    connections = []\n",
    "    conn_count = 0\n",
    "    def __init__(self, host):\n",
    "        if Connection.conn_count < Connection.conn_limit:\n",
    "            Connection.connections.append(self)\n",
    "        self.host = host\n",
    "        self.port = Connection.port\n",
    "        Connection.port += 1\n",
    "        Connection.conn_count += 1\n",
    "        \n",
    "    def close(self):\n",
    "        Connection.connections.remove(self)\n",
    "        Connection.conn_count -= 1\n",
    "        \n",
    "    def __repr__(self):\n",
    "        return f\"{self.host}, {self.port}\""
   ]
  },
  {
   "cell_type": "markdown",
   "id": "1e442beb",
   "metadata": {},
   "source": [
    "### First I'll create some instances and confirm the values."
   ]
  },
  {
   "cell_type": "code",
   "execution_count": 44,
   "id": "75de33e1",
   "metadata": {},
   "outputs": [
    {
     "data": {
      "text/plain": [
       "host 1, 55000"
      ]
     },
     "execution_count": 44,
     "metadata": {},
     "output_type": "execute_result"
    }
   ],
   "source": [
    "h1 = Connection('host 1')\n",
    "h1"
   ]
  },
  {
   "cell_type": "code",
   "execution_count": 45,
   "id": "c7f83508",
   "metadata": {},
   "outputs": [
    {
     "data": {
      "text/plain": [
       "host 2, 55001"
      ]
     },
     "execution_count": 45,
     "metadata": {},
     "output_type": "execute_result"
    }
   ],
   "source": [
    "h2 = Connection('host 2')\n",
    "h2"
   ]
  },
  {
   "cell_type": "markdown",
   "id": "6f03a056",
   "metadata": {},
   "source": [
    "### Now I'll use the classistself to access class data."
   ]
  },
  {
   "cell_type": "code",
   "execution_count": 46,
   "id": "231855d8",
   "metadata": {},
   "outputs": [
    {
     "data": {
      "text/plain": [
       "55002"
      ]
     },
     "execution_count": 46,
     "metadata": {},
     "output_type": "execute_result"
    }
   ],
   "source": [
    "Connection.port"
   ]
  },
  {
   "cell_type": "code",
   "execution_count": 47,
   "id": "115a57a2",
   "metadata": {},
   "outputs": [
    {
     "data": {
      "text/plain": [
       "10"
      ]
     },
     "execution_count": 47,
     "metadata": {},
     "output_type": "execute_result"
    }
   ],
   "source": [
    "Connection.conn_limit"
   ]
  },
  {
   "cell_type": "code",
   "execution_count": 48,
   "id": "89466687",
   "metadata": {},
   "outputs": [
    {
     "data": {
      "text/plain": [
       "[host 1, 55000, host 2, 55001]"
      ]
     },
     "execution_count": 48,
     "metadata": {},
     "output_type": "execute_result"
    }
   ],
   "source": [
    "Connection.connections"
   ]
  },
  {
   "cell_type": "code",
   "execution_count": 49,
   "id": "93d47ea9",
   "metadata": {},
   "outputs": [
    {
     "data": {
      "text/plain": [
       "2"
      ]
     },
     "execution_count": 49,
     "metadata": {},
     "output_type": "execute_result"
    }
   ],
   "source": [
    "Connection.conn_count"
   ]
  },
  {
   "cell_type": "markdown",
   "id": "0cfdc3dd",
   "metadata": {},
   "source": [
    "## Step 2 - Try the __class__ property to get class variables."
   ]
  },
  {
   "cell_type": "code",
   "execution_count": 50,
   "id": "9d91bd0f",
   "metadata": {},
   "outputs": [
    {
     "data": {
      "text/plain": [
       "55002"
      ]
     },
     "execution_count": 50,
     "metadata": {},
     "output_type": "execute_result"
    }
   ],
   "source": [
    "h1.__class__.port"
   ]
  },
  {
   "cell_type": "code",
   "execution_count": 51,
   "id": "41741d0e",
   "metadata": {},
   "outputs": [
    {
     "data": {
      "text/plain": [
       "10"
      ]
     },
     "execution_count": 51,
     "metadata": {},
     "output_type": "execute_result"
    }
   ],
   "source": [
    "h1.__class__.conn_limit"
   ]
  },
  {
   "cell_type": "code",
   "execution_count": 52,
   "id": "1f5a05f1",
   "metadata": {},
   "outputs": [
    {
     "data": {
      "text/plain": [
       "[host 1, 55000, host 2, 55001]"
      ]
     },
     "execution_count": 52,
     "metadata": {},
     "output_type": "execute_result"
    }
   ],
   "source": [
    "h1.__class__.connections"
   ]
  },
  {
   "cell_type": "code",
   "execution_count": 53,
   "id": "7640f490",
   "metadata": {},
   "outputs": [
    {
     "data": {
      "text/plain": [
       "2"
      ]
     },
     "execution_count": 53,
     "metadata": {},
     "output_type": "execute_result"
    }
   ],
   "source": [
    "h1.__class__.conn_count"
   ]
  },
  {
   "cell_type": "markdown",
   "id": "913b1937",
   "metadata": {},
   "source": [
    "## Step 3 - Create a class that uses class methods get_next_port, get_connection_count, add_connection, and remove_connection to manage the class data attributes."
   ]
  },
  {
   "cell_type": "code",
   "execution_count": 54,
   "id": "ca5add41",
   "metadata": {},
   "outputs": [],
   "source": [
    "class Connection_b:\n",
    "    port = 55000\n",
    "    conn_limit = 10\n",
    "    connections = []\n",
    "    conn_count = 0\n",
    "    def __init__(self, host):\n",
    "        Connection_b.connections.append(self)\n",
    "        self.host = host\n",
    "        self.port = Connection_b.port\n",
    "        Connection_b.port += 1\n",
    "        Connection_b.conn_count += 1\n",
    "        \n",
    "    def close(self):\n",
    "        Connection_b.connections.remove(self)\n",
    "        Connection_b.conn_count -= 1\n",
    "       \n",
    "\n",
    "    def __repr__(self):\n",
    "        return f\"{self.host}, {self.port}\"\n",
    "    \n",
    "    @classmethod\n",
    "    def get_next_port(cls):\n",
    "        return cls.port\n",
    "    \n",
    "    @classmethod\n",
    "    def get_connection_count(cls):\n",
    "        return cls.conn_count\n",
    "    \n",
    "    @classmethod\n",
    "    def add_connection(cls, host):\n",
    "        if cls.conn_count < cls.conn_limit:\n",
    "            self = cls(host)\n",
    "            return self\n",
    "        else:\n",
    "            print('Too many hosts. No hosts added')\n",
    "    \n",
    "    @classmethod\n",
    "    def remove_connection(cls, conn):\n",
    "        cls.connections.remove(conn)\n",
    "        cls.conn_count -= 1"
   ]
  },
  {
   "cell_type": "code",
   "execution_count": 55,
   "id": "5cb69001",
   "metadata": {},
   "outputs": [],
   "source": [
    "h1_b = Connection_b.add_connection('host1 b')\n",
    "h2_b = Connection_b.add_connection('host2 b')\n",
    "h3_b = Connection_b.add_connection('host3 b')"
   ]
  },
  {
   "cell_type": "code",
   "execution_count": 56,
   "id": "08d26d57",
   "metadata": {},
   "outputs": [
    {
     "data": {
      "text/plain": [
       "host1 b, 55000"
      ]
     },
     "execution_count": 56,
     "metadata": {},
     "output_type": "execute_result"
    }
   ],
   "source": [
    "h1_b"
   ]
  },
  {
   "cell_type": "code",
   "execution_count": 57,
   "id": "fdc2d548",
   "metadata": {},
   "outputs": [
    {
     "data": {
      "text/plain": [
       "host2 b, 55001"
      ]
     },
     "execution_count": 57,
     "metadata": {},
     "output_type": "execute_result"
    }
   ],
   "source": [
    "h2_b"
   ]
  },
  {
   "cell_type": "code",
   "execution_count": 58,
   "id": "08ee3dea",
   "metadata": {},
   "outputs": [
    {
     "data": {
      "text/plain": [
       "host3 b, 55002"
      ]
     },
     "execution_count": 58,
     "metadata": {},
     "output_type": "execute_result"
    }
   ],
   "source": [
    "h3_b"
   ]
  },
  {
   "cell_type": "code",
   "execution_count": 59,
   "id": "fcc96938",
   "metadata": {},
   "outputs": [
    {
     "data": {
      "text/plain": [
       "[host1 b, 55000, host2 b, 55001, host3 b, 55002]"
      ]
     },
     "execution_count": 59,
     "metadata": {},
     "output_type": "execute_result"
    }
   ],
   "source": [
    "Connection_b.connections"
   ]
  },
  {
   "cell_type": "code",
   "execution_count": 60,
   "id": "4bd30ffa",
   "metadata": {},
   "outputs": [],
   "source": [
    "Connection_b.remove_connection(h2_b)"
   ]
  },
  {
   "cell_type": "code",
   "execution_count": 61,
   "id": "e4cdfe1c",
   "metadata": {},
   "outputs": [
    {
     "data": {
      "text/plain": [
       "[host1 b, 55000, host3 b, 55002]"
      ]
     },
     "execution_count": 61,
     "metadata": {},
     "output_type": "execute_result"
    }
   ],
   "source": [
    "Connection_b.connections"
   ]
  },
  {
   "cell_type": "code",
   "execution_count": 62,
   "id": "1109caa6",
   "metadata": {},
   "outputs": [
    {
     "data": {
      "text/plain": [
       "55003"
      ]
     },
     "execution_count": 62,
     "metadata": {},
     "output_type": "execute_result"
    }
   ],
   "source": [
    "Connection_b.get_next_port()"
   ]
  },
  {
   "cell_type": "code",
   "execution_count": 63,
   "id": "c17bf3cb",
   "metadata": {},
   "outputs": [
    {
     "data": {
      "text/plain": [
       "2"
      ]
     },
     "execution_count": 63,
     "metadata": {},
     "output_type": "execute_result"
    }
   ],
   "source": [
    "Connection_b.get_connection_count()"
   ]
  }
 ],
 "metadata": {
  "kernelspec": {
   "display_name": "Python 3 (ipykernel)",
   "language": "python",
   "name": "python3"
  },
  "language_info": {
   "codemirror_mode": {
    "name": "ipython",
    "version": 3
   },
   "file_extension": ".py",
   "mimetype": "text/x-python",
   "name": "python",
   "nbconvert_exporter": "python",
   "pygments_lexer": "ipython3",
   "version": "3.10.0"
  }
 },
 "nbformat": 4,
 "nbformat_minor": 5
}
